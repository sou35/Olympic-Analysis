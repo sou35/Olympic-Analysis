{
 "cells": [
  {
   "cell_type": "code",
   "execution_count": 1,
   "id": "768da716",
   "metadata": {},
   "outputs": [],
   "source": [
    "import pandas as pd\n",
    "import numpy as np"
   ]
  },
  {
   "cell_type": "code",
   "execution_count": 4,
   "id": "4a9d72ea",
   "metadata": {},
   "outputs": [
    {
     "name": "stderr",
     "output_type": "stream",
     "text": [
      "C:\\Users\\SOUMITRA\\anaconda3\\lib\\site-packages\\openpyxl\\styles\\stylesheet.py:221: UserWarning: Workbook contains no default style, apply openpyxl's default\n",
      "  warn(\"Workbook contains no default style, apply openpyxl's default\")\n"
     ]
    }
   ],
   "source": [
    "df1=pd.read_excel('Athletes.xlsx')\n",
    "df2=pd.read_excel('Coaches.xlsx')\n",
    "df3=pd.read_excel('EntriesGender.xlsx')\n",
    "df4=pd.read_excel('Medals.xlsx')\n",
    "df5=pd.read_excel('Teams.xlsx')"
   ]
  },
  {
   "cell_type": "code",
   "execution_count": 3,
   "id": "fa7b6e0a",
   "metadata": {},
   "outputs": [
    {
     "data": {
      "text/html": [
       "<div>\n",
       "<style scoped>\n",
       "    .dataframe tbody tr th:only-of-type {\n",
       "        vertical-align: middle;\n",
       "    }\n",
       "\n",
       "    .dataframe tbody tr th {\n",
       "        vertical-align: top;\n",
       "    }\n",
       "\n",
       "    .dataframe thead th {\n",
       "        text-align: right;\n",
       "    }\n",
       "</style>\n",
       "<table border=\"1\" class=\"dataframe\">\n",
       "  <thead>\n",
       "    <tr style=\"text-align: right;\">\n",
       "      <th></th>\n",
       "      <th>Name</th>\n",
       "      <th>NOC</th>\n",
       "      <th>Discipline</th>\n",
       "    </tr>\n",
       "  </thead>\n",
       "  <tbody>\n",
       "    <tr>\n",
       "      <th>0</th>\n",
       "      <td>AALERUD Katrine</td>\n",
       "      <td>Norway</td>\n",
       "      <td>Cycling Road</td>\n",
       "    </tr>\n",
       "    <tr>\n",
       "      <th>1</th>\n",
       "      <td>ABAD Nestor</td>\n",
       "      <td>Spain</td>\n",
       "      <td>Artistic Gymnastics</td>\n",
       "    </tr>\n",
       "    <tr>\n",
       "      <th>2</th>\n",
       "      <td>ABAGNALE Giovanni</td>\n",
       "      <td>Italy</td>\n",
       "      <td>Rowing</td>\n",
       "    </tr>\n",
       "    <tr>\n",
       "      <th>3</th>\n",
       "      <td>ABALDE Alberto</td>\n",
       "      <td>Spain</td>\n",
       "      <td>Basketball</td>\n",
       "    </tr>\n",
       "    <tr>\n",
       "      <th>4</th>\n",
       "      <td>ABALDE Tamara</td>\n",
       "      <td>Spain</td>\n",
       "      <td>Basketball</td>\n",
       "    </tr>\n",
       "    <tr>\n",
       "      <th>...</th>\n",
       "      <td>...</td>\n",
       "      <td>...</td>\n",
       "      <td>...</td>\n",
       "    </tr>\n",
       "    <tr>\n",
       "      <th>11080</th>\n",
       "      <td>ZWICKER Martin Detlef</td>\n",
       "      <td>Germany</td>\n",
       "      <td>Hockey</td>\n",
       "    </tr>\n",
       "    <tr>\n",
       "      <th>11081</th>\n",
       "      <td>ZWOLINSKA Klaudia</td>\n",
       "      <td>Poland</td>\n",
       "      <td>Canoe Slalom</td>\n",
       "    </tr>\n",
       "    <tr>\n",
       "      <th>11082</th>\n",
       "      <td>ZYKOVA Yulia</td>\n",
       "      <td>ROC</td>\n",
       "      <td>Shooting</td>\n",
       "    </tr>\n",
       "    <tr>\n",
       "      <th>11083</th>\n",
       "      <td>ZYUZINA Ekaterina</td>\n",
       "      <td>ROC</td>\n",
       "      <td>Sailing</td>\n",
       "    </tr>\n",
       "    <tr>\n",
       "      <th>11084</th>\n",
       "      <td>ZYZANSKA Sylwia</td>\n",
       "      <td>Poland</td>\n",
       "      <td>Archery</td>\n",
       "    </tr>\n",
       "  </tbody>\n",
       "</table>\n",
       "<p>11085 rows × 3 columns</p>\n",
       "</div>"
      ],
      "text/plain": [
       "                        Name      NOC           Discipline\n",
       "0            AALERUD Katrine   Norway         Cycling Road\n",
       "1                ABAD Nestor    Spain  Artistic Gymnastics\n",
       "2          ABAGNALE Giovanni    Italy               Rowing\n",
       "3             ABALDE Alberto    Spain           Basketball\n",
       "4              ABALDE Tamara    Spain           Basketball\n",
       "...                      ...      ...                  ...\n",
       "11080  ZWICKER Martin Detlef  Germany               Hockey\n",
       "11081      ZWOLINSKA Klaudia   Poland         Canoe Slalom\n",
       "11082           ZYKOVA Yulia      ROC             Shooting\n",
       "11083      ZYUZINA Ekaterina      ROC              Sailing\n",
       "11084        ZYZANSKA Sylwia   Poland              Archery\n",
       "\n",
       "[11085 rows x 3 columns]"
      ]
     },
     "execution_count": 3,
     "metadata": {},
     "output_type": "execute_result"
    }
   ],
   "source": [
    "df1"
   ]
  },
  {
   "cell_type": "code",
   "execution_count": 4,
   "id": "a4a32d31",
   "metadata": {},
   "outputs": [],
   "source": [
    "link1='https://en.wikipedia.org/wiki/2020_Summer_Olympics'\n",
    "df2 = pd.read_html(link1, header=0)[3]"
   ]
  },
  {
   "cell_type": "code",
   "execution_count": 5,
   "id": "436fb016",
   "metadata": {},
   "outputs": [
    {
     "data": {
      "text/html": [
       "<div>\n",
       "<style scoped>\n",
       "    .dataframe tbody tr th:only-of-type {\n",
       "        vertical-align: middle;\n",
       "    }\n",
       "\n",
       "    .dataframe tbody tr th {\n",
       "        vertical-align: top;\n",
       "    }\n",
       "\n",
       "    .dataframe thead th {\n",
       "        text-align: right;\n",
       "    }\n",
       "</style>\n",
       "<table border=\"1\" class=\"dataframe\">\n",
       "  <thead>\n",
       "    <tr style=\"text-align: right;\">\n",
       "      <th></th>\n",
       "      <th>2020 Summer Olympic Sports Programme</th>\n",
       "      <th>Unnamed: 1</th>\n",
       "      <th>Unnamed: 2</th>\n",
       "      <th>Unnamed: 3</th>\n",
       "    </tr>\n",
       "  </thead>\n",
       "  <tbody>\n",
       "    <tr>\n",
       "      <th>0</th>\n",
       "      <td>Aquatics  Artistic swimming (2)  Diving (8)  M...</td>\n",
       "      <td>NaN</td>\n",
       "      <td>NaN</td>\n",
       "      <td>NaN</td>\n",
       "    </tr>\n",
       "    <tr>\n",
       "      <th>1</th>\n",
       "      <td>Aquatics  Artistic swimming (2)  Diving (8)  M...</td>\n",
       "      <td>Boxing (13)  Canoeing Slalom (4) Sprint (12)  ...</td>\n",
       "      <td>Football (2)  Golf (2)  Gymnastics Artistic (1...</td>\n",
       "      <td>Shooting (15)  Skateboarding (4)  Sport climbi...</td>\n",
       "    </tr>\n",
       "  </tbody>\n",
       "</table>\n",
       "</div>"
      ],
      "text/plain": [
       "                2020 Summer Olympic Sports Programme  \\\n",
       "0  Aquatics  Artistic swimming (2)  Diving (8)  M...   \n",
       "1  Aquatics  Artistic swimming (2)  Diving (8)  M...   \n",
       "\n",
       "                                          Unnamed: 1  \\\n",
       "0                                                NaN   \n",
       "1  Boxing (13)  Canoeing Slalom (4) Sprint (12)  ...   \n",
       "\n",
       "                                          Unnamed: 2  \\\n",
       "0                                                NaN   \n",
       "1  Football (2)  Golf (2)  Gymnastics Artistic (1...   \n",
       "\n",
       "                                          Unnamed: 3  \n",
       "0                                                NaN  \n",
       "1  Shooting (15)  Skateboarding (4)  Sport climbi...  "
      ]
     },
     "execution_count": 5,
     "metadata": {},
     "output_type": "execute_result"
    }
   ],
   "source": [
    "df2"
   ]
  },
  {
   "cell_type": "code",
   "execution_count": null,
   "id": "6fe8accd",
   "metadata": {},
   "outputs": [],
   "source": []
  }
 ],
 "metadata": {
  "kernelspec": {
   "display_name": "Python 3",
   "language": "python",
   "name": "python3"
  },
  "language_info": {
   "codemirror_mode": {
    "name": "ipython",
    "version": 3
   },
   "file_extension": ".py",
   "mimetype": "text/x-python",
   "name": "python",
   "nbconvert_exporter": "python",
   "pygments_lexer": "ipython3",
   "version": "3.8.8"
  }
 },
 "nbformat": 4,
 "nbformat_minor": 5
}
